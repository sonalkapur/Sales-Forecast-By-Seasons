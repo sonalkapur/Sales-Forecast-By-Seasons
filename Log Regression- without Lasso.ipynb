{
 "cells": [
  {
   "cell_type": "markdown",
   "metadata": {},
   "source": [
    "### Logistic Regression without Lasso "
   ]
  },
  {
   "cell_type": "code",
   "execution_count": 24,
   "metadata": {
    "collapsed": true
   },
   "outputs": [],
   "source": [
    "# Importing required libraries\n",
    "import pandas as pd\n",
    "import numpy as np\n",
    "import os\n",
    "\n",
    "from matplotlib import pyplot as plt\n",
    "import seaborn as sns \n",
    "%matplotlib inline\n",
    "from datetime import datetime\n",
    "from sklearn import linear_model\n",
    "from sklearn.model_selection import cross_val_score\n",
    "from sklearn.linear_model import LogisticRegression\n",
    "from sklearn import svm\n",
    "import scikitplot as skplt\n",
    "from sklearn.svm import l1_min_c\n",
    "from sklearn.metrics import accuracy_score,classification_report,confusion_matrix\n",
    "import scikitplot as skplt"
   ]
  },
  {
   "cell_type": "code",
   "execution_count": 25,
   "metadata": {
    "collapsed": true
   },
   "outputs": [],
   "source": [
    "# Reading training dataset\n",
    "userhome = os.path.expanduser('~')\n",
    "path = '/Documents/'\n",
    "X_train = pd.read_csv(userhome + path + 'X_train_v2.csv')\n",
    "Y_train = pd.read_csv(userhome + path + 'Y_train_v2.csv',header=None )"
   ]
  },
  {
   "cell_type": "code",
   "execution_count": 26,
   "metadata": {
    "collapsed": true
   },
   "outputs": [],
   "source": [
    "Y_train = Y_train.iloc[:,0]"
   ]
  },
  {
   "cell_type": "code",
   "execution_count": 27,
   "metadata": {
    "scrolled": true
   },
   "outputs": [
    {
     "data": {
      "text/plain": [
       "(39321,)"
      ]
     },
     "execution_count": 27,
     "metadata": {},
     "output_type": "execute_result"
    }
   ],
   "source": [
    "Y_train.shape"
   ]
  },
  {
   "cell_type": "code",
   "execution_count": 28,
   "metadata": {},
   "outputs": [
    {
     "data": {
      "text/plain": [
       "year_2014                      False\n",
       "year_2015                      False\n",
       "item_category_Accessories      False\n",
       "item_category_Battery          False\n",
       "item_category_Books            False\n",
       "item_category_Cinema           False\n",
       "item_category_Game Consoles    False\n",
       "item_category_Games            False\n",
       "item_category_Gifts            False\n",
       "item_category_Music            False\n",
       "item_category_Office           False\n",
       "item_category_Official         False\n",
       "item_category_Programs         False\n",
       "Item Type_Electronics          False\n",
       "item_price_s                   False\n",
       "item_cnt_month_s               False\n",
       "Sales_vol_s                    False\n",
       "dtype: bool"
      ]
     },
     "execution_count": 28,
     "metadata": {},
     "output_type": "execute_result"
    }
   ],
   "source": [
    "#checking missing records\n",
    "X_train.iloc[:,:].isnull().any()"
   ]
  },
  {
   "cell_type": "code",
   "execution_count": null,
   "metadata": {
    "collapsed": true,
    "scrolled": true
   },
   "outputs": [],
   "source": []
  },
  {
   "cell_type": "code",
   "execution_count": 45,
   "metadata": {
    "scrolled": true
   },
   "outputs": [
    {
     "name": "stdout",
     "output_type": "stream",
     "text": [
      "This took  0:01:27.833248\n",
      "Accuracy: 0.95 (+/- 0.08)\n"
     ]
    }
   ],
   "source": [
    "#using default C to run logit model\n",
    "start = datetime.now()\n",
    "clf1 = linear_model.LogisticRegression(C=100,penalty='l1', tol=1e-6,solver='liblinear')\n",
    "score = cross_val_score(clf1,X_train,Y_train,cv=5)\n",
    "Y_train_pred = clf1.fit(X_train,Y_train)\n",
    "print(\"This took \", datetime.now() - start)\n",
    "# Accuracy of training data\n",
    "print(\"Accuracy: %0.2f (+/- %0.2f)\" % (score.mean(), score.std() * 2))\n"
   ]
  },
  {
   "cell_type": "code",
   "execution_count": 46,
   "metadata": {
    "scrolled": false
   },
   "outputs": [
    {
     "name": "stdout",
     "output_type": "stream",
     "text": [
      "The accuracy of the svm classifier on training data is 0.96 \n"
     ]
    }
   ],
   "source": [
    "print('The accuracy of the svm classifier on training data is {:.2f} '.format(clf1.score(X_train, Y_train)))"
   ]
  },
  {
   "cell_type": "code",
   "execution_count": 47,
   "metadata": {},
   "outputs": [
    {
     "data": {
      "text/plain": [
       "array([[  0.15516975,   9.33850318,  -2.55726408,   0.73112652,\n",
       "         -1.10073578,   5.69638119,  23.179012  ,   1.85716759,\n",
       "         -0.62240487,   3.37342724,  -5.45522009,   0.20717868,\n",
       "          5.77110636,   3.12937313,  -2.38479256,  -0.11898792,\n",
       "         -0.60532247]])"
      ]
     },
     "execution_count": 47,
     "metadata": {},
     "output_type": "execute_result"
    }
   ],
   "source": [
    "#The value of coefficients after regualrization\n",
    "clf1.coef_"
   ]
  },
  {
   "cell_type": "code",
   "execution_count": 48,
   "metadata": {
    "collapsed": true
   },
   "outputs": [],
   "source": [
    "Y_pred = clf1.predict(X_train)"
   ]
  },
  {
   "cell_type": "code",
   "execution_count": 49,
   "metadata": {
    "scrolled": false
   },
   "outputs": [
    {
     "name": "stdout",
     "output_type": "stream",
     "text": [
      "[[ 7108  1056]\n",
      " [  694 30463]]\n"
     ]
    }
   ],
   "source": [
    "# Confusion matrix of training data \n",
    "confusion_mat = confusion_matrix(Y_train,Y_pred)\n",
    "print(confusion_mat)\n"
   ]
  },
  {
   "cell_type": "code",
   "execution_count": 50,
   "metadata": {},
   "outputs": [
    {
     "name": "stdout",
     "output_type": "stream",
     "text": [
      "             precision    recall  f1-score   support\n",
      "\n",
      "          0       0.91      0.87      0.89      8164\n",
      "          1       0.97      0.98      0.97     31157\n",
      "\n",
      "avg / total       0.95      0.96      0.96     39321\n",
      "\n"
     ]
    }
   ],
   "source": [
    "#classification report of training data\n",
    "print(classification_report(Y_train,Y_pred))"
   ]
  },
  {
   "cell_type": "code",
   "execution_count": 51,
   "metadata": {
    "collapsed": true
   },
   "outputs": [],
   "source": [
    "#Reading test files\n",
    "userhome = os.path.expanduser('~')\n",
    "path = '/Documents/'\n",
    "X_test = pd.read_csv(userhome + path + 'X_test_v2.csv')\n",
    "Y_test = pd.read_csv(userhome + path + 'Y_test_v2.csv',header=None )"
   ]
  },
  {
   "cell_type": "code",
   "execution_count": 52,
   "metadata": {
    "scrolled": true
   },
   "outputs": [
    {
     "data": {
      "text/html": [
       "<div>\n",
       "<style>\n",
       "    .dataframe thead tr:only-child th {\n",
       "        text-align: right;\n",
       "    }\n",
       "\n",
       "    .dataframe thead th {\n",
       "        text-align: left;\n",
       "    }\n",
       "\n",
       "    .dataframe tbody tr th {\n",
       "        vertical-align: top;\n",
       "    }\n",
       "</style>\n",
       "<table border=\"1\" class=\"dataframe\">\n",
       "  <thead>\n",
       "    <tr style=\"text-align: right;\">\n",
       "      <th></th>\n",
       "      <th>year_2014</th>\n",
       "      <th>year_2015</th>\n",
       "      <th>item_category_Accessories</th>\n",
       "      <th>item_category_Battery</th>\n",
       "      <th>item_category_Books</th>\n",
       "      <th>item_category_Cinema</th>\n",
       "      <th>item_category_Game Consoles</th>\n",
       "      <th>item_category_Games</th>\n",
       "      <th>item_category_Gifts</th>\n",
       "      <th>item_category_Music</th>\n",
       "      <th>item_category_Office</th>\n",
       "      <th>item_category_Official</th>\n",
       "      <th>item_category_Programs</th>\n",
       "      <th>Item Type_Electronics</th>\n",
       "      <th>item_price_s</th>\n",
       "      <th>item_cnt_month_s</th>\n",
       "      <th>Sales_vol_s</th>\n",
       "    </tr>\n",
       "  </thead>\n",
       "  <tbody>\n",
       "    <tr>\n",
       "      <th>0</th>\n",
       "      <td>0</td>\n",
       "      <td>0</td>\n",
       "      <td>0</td>\n",
       "      <td>0</td>\n",
       "      <td>0</td>\n",
       "      <td>0</td>\n",
       "      <td>0</td>\n",
       "      <td>1</td>\n",
       "      <td>0</td>\n",
       "      <td>0</td>\n",
       "      <td>0</td>\n",
       "      <td>0</td>\n",
       "      <td>0</td>\n",
       "      <td>1</td>\n",
       "      <td>0.126743</td>\n",
       "      <td>-0.064139</td>\n",
       "      <td>-0.000513</td>\n",
       "    </tr>\n",
       "    <tr>\n",
       "      <th>1</th>\n",
       "      <td>0</td>\n",
       "      <td>0</td>\n",
       "      <td>0</td>\n",
       "      <td>0</td>\n",
       "      <td>0</td>\n",
       "      <td>0</td>\n",
       "      <td>0</td>\n",
       "      <td>1</td>\n",
       "      <td>0</td>\n",
       "      <td>0</td>\n",
       "      <td>0</td>\n",
       "      <td>0</td>\n",
       "      <td>0</td>\n",
       "      <td>1</td>\n",
       "      <td>0.126743</td>\n",
       "      <td>-0.064139</td>\n",
       "      <td>-0.000513</td>\n",
       "    </tr>\n",
       "    <tr>\n",
       "      <th>2</th>\n",
       "      <td>0</td>\n",
       "      <td>0</td>\n",
       "      <td>0</td>\n",
       "      <td>0</td>\n",
       "      <td>0</td>\n",
       "      <td>0</td>\n",
       "      <td>0</td>\n",
       "      <td>0</td>\n",
       "      <td>1</td>\n",
       "      <td>0</td>\n",
       "      <td>0</td>\n",
       "      <td>0</td>\n",
       "      <td>0</td>\n",
       "      <td>0</td>\n",
       "      <td>-0.408436</td>\n",
       "      <td>-0.064139</td>\n",
       "      <td>-0.100928</td>\n",
       "    </tr>\n",
       "    <tr>\n",
       "      <th>3</th>\n",
       "      <td>0</td>\n",
       "      <td>0</td>\n",
       "      <td>1</td>\n",
       "      <td>0</td>\n",
       "      <td>0</td>\n",
       "      <td>0</td>\n",
       "      <td>0</td>\n",
       "      <td>0</td>\n",
       "      <td>0</td>\n",
       "      <td>0</td>\n",
       "      <td>0</td>\n",
       "      <td>0</td>\n",
       "      <td>0</td>\n",
       "      <td>1</td>\n",
       "      <td>-0.178637</td>\n",
       "      <td>-0.064139</td>\n",
       "      <td>-0.057811</td>\n",
       "    </tr>\n",
       "    <tr>\n",
       "      <th>4</th>\n",
       "      <td>1</td>\n",
       "      <td>0</td>\n",
       "      <td>0</td>\n",
       "      <td>0</td>\n",
       "      <td>0</td>\n",
       "      <td>0</td>\n",
       "      <td>0</td>\n",
       "      <td>0</td>\n",
       "      <td>1</td>\n",
       "      <td>0</td>\n",
       "      <td>0</td>\n",
       "      <td>0</td>\n",
       "      <td>0</td>\n",
       "      <td>0</td>\n",
       "      <td>-0.216810</td>\n",
       "      <td>-0.064139</td>\n",
       "      <td>-0.064973</td>\n",
       "    </tr>\n",
       "  </tbody>\n",
       "</table>\n",
       "</div>"
      ],
      "text/plain": [
       "   year_2014  year_2015  item_category_Accessories  item_category_Battery  \\\n",
       "0          0          0                          0                      0   \n",
       "1          0          0                          0                      0   \n",
       "2          0          0                          0                      0   \n",
       "3          0          0                          1                      0   \n",
       "4          1          0                          0                      0   \n",
       "\n",
       "   item_category_Books  item_category_Cinema  item_category_Game Consoles  \\\n",
       "0                    0                     0                            0   \n",
       "1                    0                     0                            0   \n",
       "2                    0                     0                            0   \n",
       "3                    0                     0                            0   \n",
       "4                    0                     0                            0   \n",
       "\n",
       "   item_category_Games  item_category_Gifts  item_category_Music  \\\n",
       "0                    1                    0                    0   \n",
       "1                    1                    0                    0   \n",
       "2                    0                    1                    0   \n",
       "3                    0                    0                    0   \n",
       "4                    0                    1                    0   \n",
       "\n",
       "   item_category_Office  item_category_Official  item_category_Programs  \\\n",
       "0                     0                       0                       0   \n",
       "1                     0                       0                       0   \n",
       "2                     0                       0                       0   \n",
       "3                     0                       0                       0   \n",
       "4                     0                       0                       0   \n",
       "\n",
       "   Item Type_Electronics  item_price_s  item_cnt_month_s  Sales_vol_s  \n",
       "0                      1      0.126743         -0.064139    -0.000513  \n",
       "1                      1      0.126743         -0.064139    -0.000513  \n",
       "2                      0     -0.408436         -0.064139    -0.100928  \n",
       "3                      1     -0.178637         -0.064139    -0.057811  \n",
       "4                      0     -0.216810         -0.064139    -0.064973  "
      ]
     },
     "execution_count": 52,
     "metadata": {},
     "output_type": "execute_result"
    }
   ],
   "source": [
    "X_test.head()"
   ]
  },
  {
   "cell_type": "code",
   "execution_count": 53,
   "metadata": {
    "collapsed": true
   },
   "outputs": [],
   "source": [
    "Y_test = Y_test.iloc[:,0]"
   ]
  },
  {
   "cell_type": "code",
   "execution_count": 54,
   "metadata": {},
   "outputs": [
    {
     "data": {
      "text/plain": [
       "(10180, 17)"
      ]
     },
     "execution_count": 54,
     "metadata": {},
     "output_type": "execute_result"
    }
   ],
   "source": [
    "X_test.shape"
   ]
  },
  {
   "cell_type": "code",
   "execution_count": 55,
   "metadata": {
    "collapsed": true
   },
   "outputs": [],
   "source": [
    "#Prediction of labels\n",
    "Y_pred1 = clf1.predict(X_test)"
   ]
  },
  {
   "cell_type": "code",
   "execution_count": 56,
   "metadata": {
    "collapsed": true
   },
   "outputs": [],
   "source": [
    "#Predictions based on probabilities\n",
    "Y_pred_prob = clf1.predict_proba(X_test)"
   ]
  },
  {
   "cell_type": "code",
   "execution_count": 57,
   "metadata": {},
   "outputs": [
    {
     "name": "stdout",
     "output_type": "stream",
     "text": [
      "[[1748  891]\n",
      " [ 560 6981]]\n"
     ]
    }
   ],
   "source": [
    "#Confusion matrix of the test data\n",
    "confusion_mat = confusion_matrix(Y_test,Y_pred1)\n",
    "print(confusion_mat)"
   ]
  },
  {
   "cell_type": "code",
   "execution_count": 58,
   "metadata": {
    "scrolled": true
   },
   "outputs": [
    {
     "name": "stdout",
     "output_type": "stream",
     "text": [
      "             precision    recall  f1-score   support\n",
      "\n",
      "          0       0.76      0.66      0.71      2639\n",
      "          1       0.89      0.93      0.91      7541\n",
      "\n",
      "avg / total       0.85      0.86      0.85     10180\n",
      "\n"
     ]
    }
   ],
   "source": [
    "#Classification Report of the test data\n",
    "print(classification_report(Y_test,Y_pred1))"
   ]
  },
  {
   "cell_type": "code",
   "execution_count": 59,
   "metadata": {
    "scrolled": false
   },
   "outputs": [
    {
     "name": "stdout",
     "output_type": "stream",
     "text": [
      "0.857465618861\n"
     ]
    }
   ],
   "source": [
    "#Accuracy of the model\n",
    "print(accuracy_score(Y_test,Y_pred1))"
   ]
  },
  {
   "cell_type": "code",
   "execution_count": 60,
   "metadata": {},
   "outputs": [
    {
     "data": {
      "text/plain": [
       "<matplotlib.axes._subplots.AxesSubplot at 0x1a0f4782e8>"
      ]
     },
     "execution_count": 60,
     "metadata": {},
     "output_type": "execute_result"
    },
    {
     "data": {
      "image/png": "[encoded data removed]",
      "text/plain": [
       "<matplotlib.figure.Figure at 0x1a0f48ba20>"
      ]
     },
     "metadata": {},
     "output_type": "display_data"
    }
   ],
   "source": [
    "# RoC Curve\n",
    "skplt.metrics.plot_roc(Y_test, Y_pred_prob,figsize=(10,8),plot_macro=False,plot_micro=False)"
   ]
  }
 ],
 "metadata": {
  "kernelspec": {
   "display_name": "Python 3",
   "language": "python",
   "name": "python3"
  },
  "language_info": {
   "codemirror_mode": {
    "name": "ipython",
    "version": 3
   },
   "file_extension": ".py",
   "mimetype": "text/x-python",
   "name": "python",
   "nbconvert_exporter": "python",
   "pygments_lexer": "ipython3",
   "version": "3.6.3"
  }
 },
 "nbformat": 4,
 "nbformat_minor": 2
}

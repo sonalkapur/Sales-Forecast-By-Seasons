{
 "cells": [
  {
   "cell_type": "markdown",
   "metadata": {},
   "source": [
    "### SVM - (Linear Kernel)"
   ]
  },
  {
   "cell_type": "code",
   "execution_count": 13,
   "metadata": {
    "collapsed": true
   },
   "outputs": [],
   "source": [
    "# Importing required libraries\n",
    "from datetime import datetime\n",
    "import pandas as pd\n",
    "import numpy as np\n",
    "import os\n",
    "\n",
    "import seaborn as sns \n",
    "%matplotlib inline\n",
    "\n",
    "from sklearn import svm\n",
    "import scikitplot as skplt\n",
    "from sklearn.model_selection import cross_val_score\n",
    "from sklearn.metrics import accuracy_score,classification_report,confusion_matrix"
   ]
  },
  {
   "cell_type": "code",
   "execution_count": 4,
   "metadata": {
    "collapsed": true
   },
   "outputs": [],
   "source": [
    "# Reading training dataset\n",
    "userhome = os.path.expanduser('~')\n",
    "path = '/Documents/'\n",
    "X_train = pd.read_csv(userhome + path + 'X_train_v2.csv')\n",
    "Y_train = pd.read_csv(userhome + path + 'Y_train_v2.csv',header=None )"
   ]
  },
  {
   "cell_type": "code",
   "execution_count": 5,
   "metadata": {
    "collapsed": true
   },
   "outputs": [],
   "source": [
    "\n",
    "Y_train = Y_train.iloc[:,0]"
   ]
  },
  {
   "cell_type": "code",
   "execution_count": 6,
   "metadata": {},
   "outputs": [
    {
     "data": {
      "text/plain": [
       "(39321,)"
      ]
     },
     "execution_count": 6,
     "metadata": {},
     "output_type": "execute_result"
    }
   ],
   "source": [
    "Y_train.shape"
   ]
  },
  {
   "cell_type": "code",
   "execution_count": 7,
   "metadata": {
    "scrolled": true
   },
   "outputs": [
    {
     "name": "stdout",
     "output_type": "stream",
     "text": [
      "The accuracy of the svm classifier on training data is 0.96 \n",
      "This took  0:24:49.537780\n"
     ]
    }
   ],
   "source": [
    "start = datetime.now()\n",
    "clf = svm.SVC(kernel='linear',C=100,probability=True)\n",
    "acc = np.mean(cross_val_score(clf, X_train, Y_train, cv=5))\n",
    "clf.fit(X_train,Y_train)\n",
    "#print(c)\n",
    "print('The accuracy of the svm classifier on training data is {:.2f} '.format(clf.score(X_train, Y_train)))\n",
    "print(\"This took \", datetime.now() - start)"
   ]
  },
  {
   "cell_type": "code",
   "execution_count": 8,
   "metadata": {},
   "outputs": [
    {
     "name": "stdout",
     "output_type": "stream",
     "text": [
      "Mean Accuracy on training data : 0.95 (+/- 0.00)\n"
     ]
    }
   ],
   "source": [
    "# Accuracy of training data for C=100\n",
    "print(\"Mean Accuracy on training data : %0.2f (+/- %0.2f)\" % (acc.mean(), acc.std() * 2))\n"
   ]
  },
  {
   "cell_type": "code",
   "execution_count": 14,
   "metadata": {
    "collapsed": true,
    "scrolled": true
   },
   "outputs": [],
   "source": [
    "#Reading test files\n",
    "userhome = os.path.expanduser('~')\n",
    "path = '/Documents/'\n",
    "X_test = pd.read_csv(userhome + path + 'X_test_v2.csv')\n",
    "Y_test = pd.read_csv(userhome + path + 'Y_test_v2.csv',header=None )"
   ]
  },
  {
   "cell_type": "code",
   "execution_count": 15,
   "metadata": {},
   "outputs": [
    {
     "data": {
      "text/html": [
       "<div>\n",
       "<style>\n",
       "    .dataframe thead tr:only-child th {\n",
       "        text-align: right;\n",
       "    }\n",
       "\n",
       "    .dataframe thead th {\n",
       "        text-align: left;\n",
       "    }\n",
       "\n",
       "    .dataframe tbody tr th {\n",
       "        vertical-align: top;\n",
       "    }\n",
       "</style>\n",
       "<table border=\"1\" class=\"dataframe\">\n",
       "  <thead>\n",
       "    <tr style=\"text-align: right;\">\n",
       "      <th></th>\n",
       "      <th>year_2014</th>\n",
       "      <th>year_2015</th>\n",
       "      <th>item_category_Accessories</th>\n",
       "      <th>item_category_Battery</th>\n",
       "      <th>item_category_Books</th>\n",
       "      <th>item_category_Cinema</th>\n",
       "      <th>item_category_Game Consoles</th>\n",
       "      <th>item_category_Games</th>\n",
       "      <th>item_category_Gifts</th>\n",
       "      <th>item_category_Music</th>\n",
       "      <th>item_category_Office</th>\n",
       "      <th>item_category_Official</th>\n",
       "      <th>item_category_Programs</th>\n",
       "      <th>Item Type_Electronics</th>\n",
       "      <th>item_price_s</th>\n",
       "      <th>item_cnt_month_s</th>\n",
       "      <th>Sales_vol_s</th>\n",
       "    </tr>\n",
       "  </thead>\n",
       "  <tbody>\n",
       "    <tr>\n",
       "      <th>0</th>\n",
       "      <td>0</td>\n",
       "      <td>0</td>\n",
       "      <td>0</td>\n",
       "      <td>0</td>\n",
       "      <td>0</td>\n",
       "      <td>0</td>\n",
       "      <td>0</td>\n",
       "      <td>1</td>\n",
       "      <td>0</td>\n",
       "      <td>0</td>\n",
       "      <td>0</td>\n",
       "      <td>0</td>\n",
       "      <td>0</td>\n",
       "      <td>1</td>\n",
       "      <td>0.126743</td>\n",
       "      <td>-0.064139</td>\n",
       "      <td>-0.000513</td>\n",
       "    </tr>\n",
       "    <tr>\n",
       "      <th>1</th>\n",
       "      <td>0</td>\n",
       "      <td>0</td>\n",
       "      <td>0</td>\n",
       "      <td>0</td>\n",
       "      <td>0</td>\n",
       "      <td>0</td>\n",
       "      <td>0</td>\n",
       "      <td>1</td>\n",
       "      <td>0</td>\n",
       "      <td>0</td>\n",
       "      <td>0</td>\n",
       "      <td>0</td>\n",
       "      <td>0</td>\n",
       "      <td>1</td>\n",
       "      <td>0.126743</td>\n",
       "      <td>-0.064139</td>\n",
       "      <td>-0.000513</td>\n",
       "    </tr>\n",
       "    <tr>\n",
       "      <th>2</th>\n",
       "      <td>0</td>\n",
       "      <td>0</td>\n",
       "      <td>0</td>\n",
       "      <td>0</td>\n",
       "      <td>0</td>\n",
       "      <td>0</td>\n",
       "      <td>0</td>\n",
       "      <td>0</td>\n",
       "      <td>1</td>\n",
       "      <td>0</td>\n",
       "      <td>0</td>\n",
       "      <td>0</td>\n",
       "      <td>0</td>\n",
       "      <td>0</td>\n",
       "      <td>-0.408436</td>\n",
       "      <td>-0.064139</td>\n",
       "      <td>-0.100928</td>\n",
       "    </tr>\n",
       "    <tr>\n",
       "      <th>3</th>\n",
       "      <td>0</td>\n",
       "      <td>0</td>\n",
       "      <td>1</td>\n",
       "      <td>0</td>\n",
       "      <td>0</td>\n",
       "      <td>0</td>\n",
       "      <td>0</td>\n",
       "      <td>0</td>\n",
       "      <td>0</td>\n",
       "      <td>0</td>\n",
       "      <td>0</td>\n",
       "      <td>0</td>\n",
       "      <td>0</td>\n",
       "      <td>1</td>\n",
       "      <td>-0.178637</td>\n",
       "      <td>-0.064139</td>\n",
       "      <td>-0.057811</td>\n",
       "    </tr>\n",
       "    <tr>\n",
       "      <th>4</th>\n",
       "      <td>1</td>\n",
       "      <td>0</td>\n",
       "      <td>0</td>\n",
       "      <td>0</td>\n",
       "      <td>0</td>\n",
       "      <td>0</td>\n",
       "      <td>0</td>\n",
       "      <td>0</td>\n",
       "      <td>1</td>\n",
       "      <td>0</td>\n",
       "      <td>0</td>\n",
       "      <td>0</td>\n",
       "      <td>0</td>\n",
       "      <td>0</td>\n",
       "      <td>-0.216810</td>\n",
       "      <td>-0.064139</td>\n",
       "      <td>-0.064973</td>\n",
       "    </tr>\n",
       "  </tbody>\n",
       "</table>\n",
       "</div>"
      ],
      "text/plain": [
       "   year_2014  year_2015  item_category_Accessories  item_category_Battery  \\\n",
       "0          0          0                          0                      0   \n",
       "1          0          0                          0                      0   \n",
       "2          0          0                          0                      0   \n",
       "3          0          0                          1                      0   \n",
       "4          1          0                          0                      0   \n",
       "\n",
       "   item_category_Books  item_category_Cinema  item_category_Game Consoles  \\\n",
       "0                    0                     0                            0   \n",
       "1                    0                     0                            0   \n",
       "2                    0                     0                            0   \n",
       "3                    0                     0                            0   \n",
       "4                    0                     0                            0   \n",
       "\n",
       "   item_category_Games  item_category_Gifts  item_category_Music  \\\n",
       "0                    1                    0                    0   \n",
       "1                    1                    0                    0   \n",
       "2                    0                    1                    0   \n",
       "3                    0                    0                    0   \n",
       "4                    0                    1                    0   \n",
       "\n",
       "   item_category_Office  item_category_Official  item_category_Programs  \\\n",
       "0                     0                       0                       0   \n",
       "1                     0                       0                       0   \n",
       "2                     0                       0                       0   \n",
       "3                     0                       0                       0   \n",
       "4                     0                       0                       0   \n",
       "\n",
       "   Item Type_Electronics  item_price_s  item_cnt_month_s  Sales_vol_s  \n",
       "0                      1      0.126743         -0.064139    -0.000513  \n",
       "1                      1      0.126743         -0.064139    -0.000513  \n",
       "2                      0     -0.408436         -0.064139    -0.100928  \n",
       "3                      1     -0.178637         -0.064139    -0.057811  \n",
       "4                      0     -0.216810         -0.064139    -0.064973  "
      ]
     },
     "execution_count": 15,
     "metadata": {},
     "output_type": "execute_result"
    }
   ],
   "source": [
    "X_test.head()"
   ]
  },
  {
   "cell_type": "code",
   "execution_count": 16,
   "metadata": {
    "collapsed": true
   },
   "outputs": [],
   "source": [
    "\n",
    "Y_test = Y_test.iloc[:,0]"
   ]
  },
  {
   "cell_type": "code",
   "execution_count": 17,
   "metadata": {
    "collapsed": true
   },
   "outputs": [],
   "source": [
    "#Predicting class labels\n",
    "Y_pred = clf.predict(X_test)"
   ]
  },
  {
   "cell_type": "code",
   "execution_count": 18,
   "metadata": {
    "collapsed": true
   },
   "outputs": [],
   "source": [
    "#Predicting class probabilities\n",
    "Y_pred_prob = clf.predict_proba(X_test)"
   ]
  },
  {
   "cell_type": "code",
   "execution_count": 19,
   "metadata": {
    "scrolled": true
   },
   "outputs": [
    {
     "name": "stdout",
     "output_type": "stream",
     "text": [
      "[[1751  888]\n",
      " [ 604 6937]]\n"
     ]
    },
    {
     "data": {
      "text/plain": [
       "<matplotlib.axes._subplots.AxesSubplot at 0x11021fcf8>"
      ]
     },
     "execution_count": 19,
     "metadata": {},
     "output_type": "execute_result"
    },
    {
     "data": {
      "image/png": "[encoded data removed]",
      "text/plain": [
       "<matplotlib.figure.Figure at 0x1082886a0>"
      ]
     },
     "metadata": {},
     "output_type": "display_data"
    }
   ],
   "source": [
    "#Preparing confusion matrix of test data\n",
    "confusion_mat = confusion_matrix(Y_test,Y_pred)\n",
    "print(confusion_mat)\n",
    "\n",
    "skplt.metrics.plot_confusion_matrix(Y_test, Y_pred, normalize=False)"
   ]
  },
  {
   "cell_type": "code",
   "execution_count": 20,
   "metadata": {
    "scrolled": true
   },
   "outputs": [
    {
     "name": "stdout",
     "output_type": "stream",
     "text": [
      "             precision    recall  f1-score   support\n",
      "\n",
      "          0       0.74      0.66      0.70      2639\n",
      "          1       0.89      0.92      0.90      7541\n",
      "\n",
      "avg / total       0.85      0.85      0.85     10180\n",
      "\n"
     ]
    }
   ],
   "source": [
    "#Classification Report of the test data\n",
    "print(classification_report(Y_test,Y_pred))"
   ]
  },
  {
   "cell_type": "code",
   "execution_count": 21,
   "metadata": {},
   "outputs": [
    {
     "data": {
      "text/plain": [
       "<matplotlib.axes._subplots.AxesSubplot at 0x110ce4630>"
      ]
     },
     "execution_count": 21,
     "metadata": {},
     "output_type": "execute_result"
    },
    {
     "data": {
      "image/png": "[encoded data removed]",
      "text/plain": [
       "<matplotlib.figure.Figure at 0x11119ab00>"
      ]
     },
     "metadata": {},
     "output_type": "display_data"
    }
   ],
   "source": [
    "# Another package which helps in creating ROc curve\n",
    "skplt.metrics.plot_roc(Y_test, Y_pred_prob,figsize=(10,8),plot_macro=False,plot_micro=False)"
   ]
  },
  {
   "cell_type": "code",
   "execution_count": 22,
   "metadata": {
    "scrolled": false
   },
   "outputs": [
    {
     "name": "stdout",
     "output_type": "stream",
     "text": [
      "0.853438113949\n"
     ]
    }
   ],
   "source": [
    "#Accuracy of the model\n",
    "print(accuracy_score(Y_test,Y_pred))"
   ]
  }
 ],
 "metadata": {
  "kernelspec": {
   "display_name": "Python 3",
   "language": "python",
   "name": "python3"
  },
  "language_info": {
   "codemirror_mode": {
    "name": "ipython",
    "version": 3
   },
   "file_extension": ".py",
   "mimetype": "text/x-python",
   "name": "python",
   "nbconvert_exporter": "python",
   "pygments_lexer": "ipython3",
   "version": "3.6.3"
  }
 },
 "nbformat": 4,
 "nbformat_minor": 2
}

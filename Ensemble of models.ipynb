{
 "cells": [
  {
   "cell_type": "markdown",
   "metadata": {},
   "source": [
    "### Ensemble "
   ]
  },
  {
   "cell_type": "code",
   "execution_count": 1,
   "metadata": {
    "collapsed": true
   },
   "outputs": [],
   "source": [
    "# Importing required libraries\n",
    "import pandas as pd\n",
    "import numpy as np\n",
    "import os\n",
    "\n",
    "from matplotlib import pyplot as plt\n",
    "import seaborn as sns \n",
    "%matplotlib inline\n",
    "from datetime import datetime\n",
    "from sklearn import linear_model\n",
    "from sklearn.model_selection import cross_val_score\n",
    "from sklearn.linear_model import LogisticRegression\n",
    "from sklearn import svm\n",
    "from sklearn.ensemble import VotingClassifier,RandomForestClassifier\n",
    "from sklearn import svm\n",
    "import scikitplot as skplt\n",
    "from sklearn.svm import l1_min_c\n",
    "from sklearn.metrics import accuracy_score,classification_report,confusion_matrix\n",
    "import scikitplot as skplt"
   ]
  },
  {
   "cell_type": "code",
   "execution_count": 2,
   "metadata": {
    "collapsed": true
   },
   "outputs": [],
   "source": [
    "# Reading training dataset\n",
    "userhome = os.path.expanduser('~')\n",
    "path = '/Documents/'\n",
    "X_train = pd.read_csv(userhome + path + 'X_train_v2.csv')\n",
    "Y_train = pd.read_csv(userhome + path + 'Y_train_v2.csv',header=None )"
   ]
  },
  {
   "cell_type": "code",
   "execution_count": 3,
   "metadata": {
    "collapsed": true
   },
   "outputs": [],
   "source": [
    "Y_train = Y_train.iloc[:,0]"
   ]
  },
  {
   "cell_type": "code",
   "execution_count": 6,
   "metadata": {
    "scrolled": true
   },
   "outputs": [
    {
     "data": {
      "text/plain": [
       "(39321,)"
      ]
     },
     "execution_count": 6,
     "metadata": {},
     "output_type": "execute_result"
    }
   ],
   "source": [
    "Y_train.shape"
   ]
  },
  {
   "cell_type": "code",
   "execution_count": 5,
   "metadata": {},
   "outputs": [
    {
     "data": {
      "text/plain": [
       "year_2014                      False\n",
       "year_2015                      False\n",
       "item_category_Accessories      False\n",
       "item_category_Battery          False\n",
       "item_category_Books            False\n",
       "item_category_Cinema           False\n",
       "item_category_Game Consoles    False\n",
       "item_category_Games            False\n",
       "item_category_Gifts            False\n",
       "item_category_Music            False\n",
       "item_category_Office           False\n",
       "item_category_Official         False\n",
       "item_category_Programs         False\n",
       "Item Type_Electronics          False\n",
       "item_price_s                   False\n",
       "item_cnt_month_s               False\n",
       "Sales_vol_s                    False\n",
       "dtype: bool"
      ]
     },
     "execution_count": 5,
     "metadata": {},
     "output_type": "execute_result"
    }
   ],
   "source": [
    "#checking missing records\n",
    "X_train.iloc[:,:].isnull().any()"
   ]
  },
  {
   "cell_type": "code",
   "execution_count": 9,
   "metadata": {
    "collapsed": true
   },
   "outputs": [],
   "source": [
    "# ensemble of 3 models\n",
    "clf1 = linear_model.LogisticRegression(C=0.003, penalty='l1')\n",
    "clf2 = svm.SVC(C=100,kernel='linear',probability=True)\n",
    "clf3 = linear_model.LogisticRegression(C=100, penalty='l1')\n"
   ]
  },
  {
   "cell_type": "code",
   "execution_count": 10,
   "metadata": {
    "scrolled": false
   },
   "outputs": [
    {
     "name": "stdout",
     "output_type": "stream",
     "text": [
      "This took1  0:05:36.074379\n",
      "[1 1 1 ..., 1 1 0]\n",
      "This took2  0:10:21.078428\n",
      "[1 1 1 ..., 1 1 0]\n"
     ]
    }
   ],
   "source": [
    "#using hard and soft voting\n",
    "start = datetime.now()\n",
    "eclf1 = VotingClassifier(estimators=[\n",
    "         ('lr-lasso', clf1), ('svm', clf2), ('lr', clf3)], voting='hard')\n",
    "eclf1 = eclf1.fit(X_train, Y_train)\n",
    "print(\"This took1 \", datetime.now() - start)\n",
    "print(eclf1.predict(X_train))\n",
    "\n",
    "start = datetime.now()\n",
    "eclf2 = VotingClassifier(estimators=[\n",
    "         ('lr-lasso', clf1), ('svm', clf2), ('lr', clf3)],\n",
    "        voting='soft')\n",
    "eclf2 = eclf2.fit(X_train, Y_train)\n",
    "print(\"This took2 \", datetime.now() - start)\n",
    "print(eclf2.predict(X_train))"
   ]
  },
  {
   "cell_type": "code",
   "execution_count": 11,
   "metadata": {
    "collapsed": true
   },
   "outputs": [],
   "source": [
    "#reading test files\n",
    "userhome = os.path.expanduser('~')\n",
    "path = '/Documents/'\n",
    "X_test = pd.read_csv(userhome + path + 'X_test_v2.csv')\n",
    "Y_test = pd.read_csv(userhome + path + 'Y_test_v2.csv',header=None )"
   ]
  },
  {
   "cell_type": "code",
   "execution_count": 12,
   "metadata": {
    "collapsed": true
   },
   "outputs": [],
   "source": [
    "Y_test = Y_test.iloc[:,0]"
   ]
  },
  {
   "cell_type": "code",
   "execution_count": 13,
   "metadata": {
    "collapsed": true
   },
   "outputs": [],
   "source": [
    "#predicting hard and soft voting\n",
    "Y_pred1 = eclf1.predict(X_test)\n",
    "Y_pred2 = eclf2.predict(X_test)\n"
   ]
  },
  {
   "cell_type": "code",
   "execution_count": 14,
   "metadata": {
    "scrolled": true
   },
   "outputs": [
    {
     "name": "stdout",
     "output_type": "stream",
     "text": [
      "The accuracy of the svm classifier on training data is 0.86 \n",
      "The accuracy of the svm classifier on training data is 0.86 \n"
     ]
    }
   ],
   "source": [
    "# Accuracy of hard and soft voting\n",
    "print('The accuracy of the svm classifier on training data is {:.2f} '.format(eclf1.score(X_test, Y_test)))\n",
    "print('The accuracy of the svm classifier on training data is {:.2f} '.format(eclf2.score(X_test, Y_test)))"
   ]
  },
  {
   "cell_type": "code",
   "execution_count": 15,
   "metadata": {
    "scrolled": true
   },
   "outputs": [
    {
     "name": "stdout",
     "output_type": "stream",
     "text": [
      "[[1747  892]\n",
      " [ 560 6981]]\n"
     ]
    },
    {
     "data": {
      "text/plain": [
       "<matplotlib.axes._subplots.AxesSubplot at 0x10b1d7208>"
      ]
     },
     "execution_count": 15,
     "metadata": {},
     "output_type": "execute_result"
    },
    {
     "data": {
      "image/png": "[encoded data removed]",
      "text/plain": [
       "<matplotlib.figure.Figure at 0x105ce5ba8>"
      ]
     },
     "metadata": {},
     "output_type": "display_data"
    }
   ],
   "source": [
    "# Confusion matrix from hard voting\n",
    "confusion_mat = confusion_matrix(Y_test,Y_pred1)\n",
    "print(confusion_mat)\n",
    "skplt.metrics.plot_confusion_matrix(Y_test, Y_pred1, normalize=False)"
   ]
  },
  {
   "cell_type": "code",
   "execution_count": 16,
   "metadata": {},
   "outputs": [
    {
     "name": "stdout",
     "output_type": "stream",
     "text": [
      "[[1735  904]\n",
      " [ 535 7006]]\n"
     ]
    },
    {
     "data": {
      "text/plain": [
       "<matplotlib.axes._subplots.AxesSubplot at 0x1032f57b8>"
      ]
     },
     "execution_count": 16,
     "metadata": {},
     "output_type": "execute_result"
    },
    {
     "data": {
      "image/png": "[encoded data removed]",
      "text/plain": [
       "<matplotlib.figure.Figure at 0x10a9e29e8>"
      ]
     },
     "metadata": {},
     "output_type": "display_data"
    }
   ],
   "source": [
    "#Confusion Matrix from soft voting\n",
    "confusion_mat = confusion_matrix(Y_test,Y_pred2)\n",
    "print(confusion_mat)\n",
    "skplt.metrics.plot_confusion_matrix(Y_test, Y_pred2, normalize=False)"
   ]
  },
  {
   "cell_type": "code",
   "execution_count": 17,
   "metadata": {
    "scrolled": true
   },
   "outputs": [
    {
     "name": "stdout",
     "output_type": "stream",
     "text": [
      "             precision    recall  f1-score   support\n",
      "\n",
      "          0       0.76      0.66      0.71      2639\n",
      "          1       0.89      0.93      0.91      7541\n",
      "\n",
      "avg / total       0.85      0.86      0.85     10180\n",
      "\n"
     ]
    }
   ],
   "source": [
    "# Classification report from hard voting\n",
    "print(classification_report(Y_test,Y_pred1))"
   ]
  },
  {
   "cell_type": "code",
   "execution_count": 18,
   "metadata": {
    "scrolled": true
   },
   "outputs": [
    {
     "name": "stdout",
     "output_type": "stream",
     "text": [
      "             precision    recall  f1-score   support\n",
      "\n",
      "          0       0.76      0.66      0.71      2639\n",
      "          1       0.89      0.93      0.91      7541\n",
      "\n",
      "avg / total       0.85      0.86      0.86     10180\n",
      "\n"
     ]
    }
   ],
   "source": [
    "# Classification report from soft voting\n",
    "print(classification_report(Y_test,Y_pred2))"
   ]
  },
  {
   "cell_type": "code",
   "execution_count": 19,
   "metadata": {
    "scrolled": true
   },
   "outputs": [
    {
     "name": "stdout",
     "output_type": "stream",
     "text": [
      "0.857367387033\n"
     ]
    }
   ],
   "source": [
    "#Accuracy of hard voting\n",
    "print(accuracy_score(Y_test,Y_pred1))"
   ]
  },
  {
   "cell_type": "code",
   "execution_count": 20,
   "metadata": {
    "scrolled": true
   },
   "outputs": [
    {
     "name": "stdout",
     "output_type": "stream",
     "text": [
      "0.858644400786\n"
     ]
    }
   ],
   "source": [
    "#Accuracy of soft voting\n",
    "print(accuracy_score(Y_test,Y_pred2))"
   ]
  }
 ],
 "metadata": {
  "kernelspec": {
   "display_name": "Python 3",
   "language": "python",
   "name": "python3"
  },
  "language_info": {
   "codemirror_mode": {
    "name": "ipython",
    "version": 3
   },
   "file_extension": ".py",
   "mimetype": "text/x-python",
   "name": "python",
   "nbconvert_exporter": "python",
   "pygments_lexer": "ipython3",
   "version": "3.6.3"
  }
 },
 "nbformat": 4,
 "nbformat_minor": 2
}

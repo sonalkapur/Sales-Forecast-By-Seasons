{
 "cells": [
  {
   "cell_type": "markdown",
   "metadata": {},
   "source": [
    "### Statistical information "
   ]
  },
  {
   "cell_type": "code",
   "execution_count": 2,
   "metadata": {
    "collapsed": true
   },
   "outputs": [],
   "source": [
    "import numpy as np\n",
    "import pandas as pd \n",
    "from matplotlib import pyplot as plt\n",
    "%matplotlib inline\n",
    "import seaborn as sns\n",
    "import os \n",
    "\n",
    "from sklearn.model_selection import train_test_split\n",
    "from sklearn import preprocessing\n",
    "from sklearn.preprocessing import OneHotEncoder\n",
    "from sklearn.preprocessing import LabelEncoder\n",
    "\n",
    "\n",
    "from sklearn.utils import shuffle\n",
    "from sklearn.model_selection import KFold\n",
    "from sklearn.model_selection import StratifiedShuffleSplit\n",
    "from sklearn.model_selection import cross_val_score"
   ]
  },
  {
   "cell_type": "code",
   "execution_count": 3,
   "metadata": {
    "collapsed": true
   },
   "outputs": [],
   "source": [
    "#Reformatting date format and reading files\n",
    "parser = lambda date: pd.to_datetime(date, format='%d.%m.%Y')\n",
    "userhome = os.path.expanduser('~')\n",
    "path = '/Documents/'\n",
    "sales = pd.read_csv(userhome + path + 'sales_train.csv',parse_dates=['date'], date_parser=parser)"
   ]
  },
  {
   "cell_type": "code",
   "execution_count": 4,
   "metadata": {
    "scrolled": true
   },
   "outputs": [
    {
     "name": "stdout",
     "output_type": "stream",
     "text": [
      "<class 'pandas.core.frame.DataFrame'>\n",
      "RangeIndex: 2935849 entries, 0 to 2935848\n",
      "Data columns (total 6 columns):\n",
      "date              datetime64[ns]\n",
      "date_block_num    int64\n",
      "shop_id           int64\n",
      "item_id           int64\n",
      "item_price        float64\n",
      "item_cnt_day      float64\n",
      "dtypes: datetime64[ns](1), float64(2), int64(3)\n",
      "memory usage: 134.4 MB\n"
     ]
    }
   ],
   "source": [
    "sales.info()"
   ]
  },
  {
   "cell_type": "code",
   "execution_count": 5,
   "metadata": {
    "scrolled": false
   },
   "outputs": [
    {
     "data": {
      "text/html": [
       "<div>\n",
       "<style>\n",
       "    .dataframe thead tr:only-child th {\n",
       "        text-align: right;\n",
       "    }\n",
       "\n",
       "    .dataframe thead th {\n",
       "        text-align: left;\n",
       "    }\n",
       "\n",
       "    .dataframe tbody tr th {\n",
       "        vertical-align: top;\n",
       "    }\n",
       "</style>\n",
       "<table border=\"1\" class=\"dataframe\">\n",
       "  <thead>\n",
       "    <tr style=\"text-align: right;\">\n",
       "      <th></th>\n",
       "      <th>date_block_num</th>\n",
       "      <th>shop_id</th>\n",
       "      <th>item_id</th>\n",
       "      <th>item_price</th>\n",
       "      <th>item_cnt_day</th>\n",
       "    </tr>\n",
       "  </thead>\n",
       "  <tbody>\n",
       "    <tr>\n",
       "      <th>count</th>\n",
       "      <td>2.935849e+06</td>\n",
       "      <td>2.935849e+06</td>\n",
       "      <td>2.935849e+06</td>\n",
       "      <td>2.935849e+06</td>\n",
       "      <td>2.935849e+06</td>\n",
       "    </tr>\n",
       "    <tr>\n",
       "      <th>mean</th>\n",
       "      <td>1.456991e+01</td>\n",
       "      <td>3.300173e+01</td>\n",
       "      <td>1.019723e+04</td>\n",
       "      <td>8.908532e+02</td>\n",
       "      <td>1.242641e+00</td>\n",
       "    </tr>\n",
       "    <tr>\n",
       "      <th>std</th>\n",
       "      <td>9.422988e+00</td>\n",
       "      <td>1.622697e+01</td>\n",
       "      <td>6.324297e+03</td>\n",
       "      <td>1.729800e+03</td>\n",
       "      <td>2.618834e+00</td>\n",
       "    </tr>\n",
       "    <tr>\n",
       "      <th>min</th>\n",
       "      <td>0.000000e+00</td>\n",
       "      <td>0.000000e+00</td>\n",
       "      <td>0.000000e+00</td>\n",
       "      <td>-1.000000e+00</td>\n",
       "      <td>-2.200000e+01</td>\n",
       "    </tr>\n",
       "    <tr>\n",
       "      <th>25%</th>\n",
       "      <td>7.000000e+00</td>\n",
       "      <td>2.200000e+01</td>\n",
       "      <td>4.476000e+03</td>\n",
       "      <td>2.490000e+02</td>\n",
       "      <td>1.000000e+00</td>\n",
       "    </tr>\n",
       "    <tr>\n",
       "      <th>50%</th>\n",
       "      <td>1.400000e+01</td>\n",
       "      <td>3.100000e+01</td>\n",
       "      <td>9.343000e+03</td>\n",
       "      <td>3.990000e+02</td>\n",
       "      <td>1.000000e+00</td>\n",
       "    </tr>\n",
       "    <tr>\n",
       "      <th>75%</th>\n",
       "      <td>2.300000e+01</td>\n",
       "      <td>4.700000e+01</td>\n",
       "      <td>1.568400e+04</td>\n",
       "      <td>9.990000e+02</td>\n",
       "      <td>1.000000e+00</td>\n",
       "    </tr>\n",
       "    <tr>\n",
       "      <th>max</th>\n",
       "      <td>3.300000e+01</td>\n",
       "      <td>5.900000e+01</td>\n",
       "      <td>2.216900e+04</td>\n",
       "      <td>3.079800e+05</td>\n",
       "      <td>2.169000e+03</td>\n",
       "    </tr>\n",
       "  </tbody>\n",
       "</table>\n",
       "</div>"
      ],
      "text/plain": [
       "       date_block_num       shop_id       item_id    item_price  item_cnt_day\n",
       "count    2.935849e+06  2.935849e+06  2.935849e+06  2.935849e+06  2.935849e+06\n",
       "mean     1.456991e+01  3.300173e+01  1.019723e+04  8.908532e+02  1.242641e+00\n",
       "std      9.422988e+00  1.622697e+01  6.324297e+03  1.729800e+03  2.618834e+00\n",
       "min      0.000000e+00  0.000000e+00  0.000000e+00 -1.000000e+00 -2.200000e+01\n",
       "25%      7.000000e+00  2.200000e+01  4.476000e+03  2.490000e+02  1.000000e+00\n",
       "50%      1.400000e+01  3.100000e+01  9.343000e+03  3.990000e+02  1.000000e+00\n",
       "75%      2.300000e+01  4.700000e+01  1.568400e+04  9.990000e+02  1.000000e+00\n",
       "max      3.300000e+01  5.900000e+01  2.216900e+04  3.079800e+05  2.169000e+03"
      ]
     },
     "execution_count": 5,
     "metadata": {},
     "output_type": "execute_result"
    }
   ],
   "source": [
    "sales.describe()"
   ]
  },
  {
   "cell_type": "code",
   "execution_count": 6,
   "metadata": {
    "scrolled": true
   },
   "outputs": [
    {
     "data": {
      "text/html": [
       "<div>\n",
       "<style>\n",
       "    .dataframe thead tr:only-child th {\n",
       "        text-align: right;\n",
       "    }\n",
       "\n",
       "    .dataframe thead th {\n",
       "        text-align: left;\n",
       "    }\n",
       "\n",
       "    .dataframe tbody tr th {\n",
       "        vertical-align: top;\n",
       "    }\n",
       "</style>\n",
       "<table border=\"1\" class=\"dataframe\">\n",
       "  <thead>\n",
       "    <tr style=\"text-align: right;\">\n",
       "      <th></th>\n",
       "      <th>date</th>\n",
       "      <th>date_block_num</th>\n",
       "      <th>shop_id</th>\n",
       "      <th>item_id</th>\n",
       "      <th>item_price</th>\n",
       "      <th>item_cnt_day</th>\n",
       "    </tr>\n",
       "  </thead>\n",
       "  <tbody>\n",
       "    <tr>\n",
       "      <th>0</th>\n",
       "      <td>2013-01-02</td>\n",
       "      <td>0</td>\n",
       "      <td>59</td>\n",
       "      <td>22154</td>\n",
       "      <td>999.00</td>\n",
       "      <td>1.0</td>\n",
       "    </tr>\n",
       "    <tr>\n",
       "      <th>1</th>\n",
       "      <td>2013-01-03</td>\n",
       "      <td>0</td>\n",
       "      <td>25</td>\n",
       "      <td>2552</td>\n",
       "      <td>899.00</td>\n",
       "      <td>1.0</td>\n",
       "    </tr>\n",
       "    <tr>\n",
       "      <th>2</th>\n",
       "      <td>2013-01-05</td>\n",
       "      <td>0</td>\n",
       "      <td>25</td>\n",
       "      <td>2552</td>\n",
       "      <td>899.00</td>\n",
       "      <td>-1.0</td>\n",
       "    </tr>\n",
       "    <tr>\n",
       "      <th>3</th>\n",
       "      <td>2013-01-06</td>\n",
       "      <td>0</td>\n",
       "      <td>25</td>\n",
       "      <td>2554</td>\n",
       "      <td>1709.05</td>\n",
       "      <td>1.0</td>\n",
       "    </tr>\n",
       "    <tr>\n",
       "      <th>4</th>\n",
       "      <td>2013-01-15</td>\n",
       "      <td>0</td>\n",
       "      <td>25</td>\n",
       "      <td>2555</td>\n",
       "      <td>1099.00</td>\n",
       "      <td>1.0</td>\n",
       "    </tr>\n",
       "  </tbody>\n",
       "</table>\n",
       "</div>"
      ],
      "text/plain": [
       "        date  date_block_num  shop_id  item_id  item_price  item_cnt_day\n",
       "0 2013-01-02               0       59    22154      999.00           1.0\n",
       "1 2013-01-03               0       25     2552      899.00           1.0\n",
       "2 2013-01-05               0       25     2552      899.00          -1.0\n",
       "3 2013-01-06               0       25     2554     1709.05           1.0\n",
       "4 2013-01-15               0       25     2555     1099.00           1.0"
      ]
     },
     "execution_count": 6,
     "metadata": {},
     "output_type": "execute_result"
    }
   ],
   "source": [
    "sales.head()"
   ]
  },
  {
   "cell_type": "code",
   "execution_count": 7,
   "metadata": {
    "collapsed": true
   },
   "outputs": [],
   "source": [
    "# Creating new cols\n",
    "sales['year'] = sales['date'].dt.year\n",
    "sales['month'] = sales['date'].dt.month\n",
    "sales['DOW'] = sales['date'].dt.weekday"
   ]
  },
  {
   "cell_type": "code",
   "execution_count": 8,
   "metadata": {
    "scrolled": true
   },
   "outputs": [
    {
     "data": {
      "text/html": [
       "<div>\n",
       "<style>\n",
       "    .dataframe thead tr:only-child th {\n",
       "        text-align: right;\n",
       "    }\n",
       "\n",
       "    .dataframe thead th {\n",
       "        text-align: left;\n",
       "    }\n",
       "\n",
       "    .dataframe tbody tr th {\n",
       "        vertical-align: top;\n",
       "    }\n",
       "</style>\n",
       "<table border=\"1\" class=\"dataframe\">\n",
       "  <thead>\n",
       "    <tr style=\"text-align: right;\">\n",
       "      <th></th>\n",
       "      <th>date</th>\n",
       "      <th>date_block_num</th>\n",
       "      <th>shop_id</th>\n",
       "      <th>item_id</th>\n",
       "      <th>item_price</th>\n",
       "      <th>item_cnt_day</th>\n",
       "      <th>year</th>\n",
       "      <th>DOW</th>\n",
       "    </tr>\n",
       "    <tr>\n",
       "      <th>month</th>\n",
       "      <th></th>\n",
       "      <th></th>\n",
       "      <th></th>\n",
       "      <th></th>\n",
       "      <th></th>\n",
       "      <th></th>\n",
       "      <th></th>\n",
       "      <th></th>\n",
       "    </tr>\n",
       "  </thead>\n",
       "  <tbody>\n",
       "    <tr>\n",
       "      <th>1</th>\n",
       "      <td>303561</td>\n",
       "      <td>303561</td>\n",
       "      <td>303561</td>\n",
       "      <td>303561</td>\n",
       "      <td>303561</td>\n",
       "      <td>303561</td>\n",
       "      <td>303561</td>\n",
       "      <td>303561</td>\n",
       "    </tr>\n",
       "    <tr>\n",
       "      <th>2</th>\n",
       "      <td>270251</td>\n",
       "      <td>270251</td>\n",
       "      <td>270251</td>\n",
       "      <td>270251</td>\n",
       "      <td>270251</td>\n",
       "      <td>270251</td>\n",
       "      <td>270251</td>\n",
       "      <td>270251</td>\n",
       "    </tr>\n",
       "    <tr>\n",
       "      <th>3</th>\n",
       "      <td>284057</td>\n",
       "      <td>284057</td>\n",
       "      <td>284057</td>\n",
       "      <td>284057</td>\n",
       "      <td>284057</td>\n",
       "      <td>284057</td>\n",
       "      <td>284057</td>\n",
       "      <td>284057</td>\n",
       "    </tr>\n",
       "    <tr>\n",
       "      <th>4</th>\n",
       "      <td>228289</td>\n",
       "      <td>228289</td>\n",
       "      <td>228289</td>\n",
       "      <td>228289</td>\n",
       "      <td>228289</td>\n",
       "      <td>228289</td>\n",
       "      <td>228289</td>\n",
       "      <td>228289</td>\n",
       "    </tr>\n",
       "    <tr>\n",
       "      <th>5</th>\n",
       "      <td>224836</td>\n",
       "      <td>224836</td>\n",
       "      <td>224836</td>\n",
       "      <td>224836</td>\n",
       "      <td>224836</td>\n",
       "      <td>224836</td>\n",
       "      <td>224836</td>\n",
       "      <td>224836</td>\n",
       "    </tr>\n",
       "    <tr>\n",
       "      <th>6</th>\n",
       "      <td>237428</td>\n",
       "      <td>237428</td>\n",
       "      <td>237428</td>\n",
       "      <td>237428</td>\n",
       "      <td>237428</td>\n",
       "      <td>237428</td>\n",
       "      <td>237428</td>\n",
       "      <td>237428</td>\n",
       "    </tr>\n",
       "    <tr>\n",
       "      <th>7</th>\n",
       "      <td>234857</td>\n",
       "      <td>234857</td>\n",
       "      <td>234857</td>\n",
       "      <td>234857</td>\n",
       "      <td>234857</td>\n",
       "      <td>234857</td>\n",
       "      <td>234857</td>\n",
       "      <td>234857</td>\n",
       "    </tr>\n",
       "    <tr>\n",
       "      <th>8</th>\n",
       "      <td>248415</td>\n",
       "      <td>248415</td>\n",
       "      <td>248415</td>\n",
       "      <td>248415</td>\n",
       "      <td>248415</td>\n",
       "      <td>248415</td>\n",
       "      <td>248415</td>\n",
       "      <td>248415</td>\n",
       "    </tr>\n",
       "    <tr>\n",
       "      <th>9</th>\n",
       "      <td>219882</td>\n",
       "      <td>219882</td>\n",
       "      <td>219882</td>\n",
       "      <td>219882</td>\n",
       "      <td>219882</td>\n",
       "      <td>219882</td>\n",
       "      <td>219882</td>\n",
       "      <td>219882</td>\n",
       "    </tr>\n",
       "    <tr>\n",
       "      <th>10</th>\n",
       "      <td>227077</td>\n",
       "      <td>227077</td>\n",
       "      <td>227077</td>\n",
       "      <td>227077</td>\n",
       "      <td>227077</td>\n",
       "      <td>227077</td>\n",
       "      <td>227077</td>\n",
       "      <td>227077</td>\n",
       "    </tr>\n",
       "    <tr>\n",
       "      <th>11</th>\n",
       "      <td>183164</td>\n",
       "      <td>183164</td>\n",
       "      <td>183164</td>\n",
       "      <td>183164</td>\n",
       "      <td>183164</td>\n",
       "      <td>183164</td>\n",
       "      <td>183164</td>\n",
       "      <td>183164</td>\n",
       "    </tr>\n",
       "    <tr>\n",
       "      <th>12</th>\n",
       "      <td>274032</td>\n",
       "      <td>274032</td>\n",
       "      <td>274032</td>\n",
       "      <td>274032</td>\n",
       "      <td>274032</td>\n",
       "      <td>274032</td>\n",
       "      <td>274032</td>\n",
       "      <td>274032</td>\n",
       "    </tr>\n",
       "  </tbody>\n",
       "</table>\n",
       "</div>"
      ],
      "text/plain": [
       "         date  date_block_num  shop_id  item_id  item_price  item_cnt_day  \\\n",
       "month                                                                       \n",
       "1      303561          303561   303561   303561      303561        303561   \n",
       "2      270251          270251   270251   270251      270251        270251   \n",
       "3      284057          284057   284057   284057      284057        284057   \n",
       "4      228289          228289   228289   228289      228289        228289   \n",
       "5      224836          224836   224836   224836      224836        224836   \n",
       "6      237428          237428   237428   237428      237428        237428   \n",
       "7      234857          234857   234857   234857      234857        234857   \n",
       "8      248415          248415   248415   248415      248415        248415   \n",
       "9      219882          219882   219882   219882      219882        219882   \n",
       "10     227077          227077   227077   227077      227077        227077   \n",
       "11     183164          183164   183164   183164      183164        183164   \n",
       "12     274032          274032   274032   274032      274032        274032   \n",
       "\n",
       "         year     DOW  \n",
       "month                  \n",
       "1      303561  303561  \n",
       "2      270251  270251  \n",
       "3      284057  284057  \n",
       "4      228289  228289  \n",
       "5      224836  224836  \n",
       "6      237428  237428  \n",
       "7      234857  234857  \n",
       "8      248415  248415  \n",
       "9      219882  219882  \n",
       "10     227077  227077  \n",
       "11     183164  183164  \n",
       "12     274032  274032  "
      ]
     },
     "execution_count": 8,
     "metadata": {},
     "output_type": "execute_result"
    }
   ],
   "source": [
    "#Grouping based on month\n",
    "byMonth = sales.groupby(\"month\").count()\n",
    "byMonth.head(30)"
   ]
  },
  {
   "cell_type": "code",
   "execution_count": 9,
   "metadata": {
    "scrolled": true
   },
   "outputs": [
    {
     "data": {
      "text/plain": [
       "<matplotlib.axes._subplots.AxesSubplot at 0x1a17628828>"
      ]
     },
     "execution_count": 9,
     "metadata": {},
     "output_type": "execute_result"
    },
    {
     "data": {
      "image/png": "[encoded data removed]",
      "text/plain": [
       "<matplotlib.figure.Figure at 0x1a176437b8>"
      ]
     },
     "metadata": {},
     "output_type": "display_data"
    }
   ],
   "source": [
    "fig, ax = plt.subplots(figsize=(10,5))\n",
    "plt.title(\"Total items sold per month\")\n",
    "plt.ylabel('Number of items')\n",
    "byMonth['item_id'].plot(kind = 'line',ax=ax)"
   ]
  },
  {
   "cell_type": "code",
   "execution_count": 10,
   "metadata": {
    "collapsed": true
   },
   "outputs": [],
   "source": [
    "# Creating season column\n",
    "def select_season(m):\n",
    "    if m >=1 and m <= 6:\n",
    "        return 'Q1-Q2'\n",
    "    else:\n",
    "        return 'Q3-Q4'\n",
    "\n",
    "\n",
    "sales['Season'] = sales['month'].apply(select_season)"
   ]
  },
  {
   "cell_type": "code",
   "execution_count": 11,
   "metadata": {
    "scrolled": false
   },
   "outputs": [
    {
     "data": {
      "text/plain": [
       "<matplotlib.axes._subplots.AxesSubplot at 0x10fd9e2b0>"
      ]
     },
     "execution_count": 11,
     "metadata": {},
     "output_type": "execute_result"
    },
    {
     "data": {
      "image/png": "[encoded data removed]",
      "text/plain": [
       "<matplotlib.figure.Figure at 0x10fd9e470>"
      ]
     },
     "metadata": {},
     "output_type": "display_data"
    }
   ],
   "source": [
    "plt.figure(figsize=(12, 7))\n",
    "plt.title(\"Distribution by season\")\n",
    "sns.countplot(x='Season',data = sales )"
   ]
  },
  {
   "cell_type": "markdown",
   "metadata": {},
   "source": [
    "### Merged other supplementary files "
   ]
  },
  {
   "cell_type": "code",
   "execution_count": 12,
   "metadata": {
    "collapsed": true
   },
   "outputs": [],
   "source": [
    "# reading files\n",
    "path1 = '/Documents/'\n",
    "items = pd.read_excel(userhome + path1 + 'item_category.xls')\n",
    "shops = pd.read_excel(userhome + path1 + 'shops.xls')\n",
    "items_cat = pd.read_csv(userhome + path + 'items.csv')"
   ]
  },
  {
   "cell_type": "code",
   "execution_count": 13,
   "metadata": {
    "collapsed": true
   },
   "outputs": [],
   "source": [
    "#merging files into one dataframe\n",
    "sales1 = pd.merge(sales,items,on='item_id',how='left')\n",
    "sales1 = pd.merge(sales1,items_cat,on='item_id',how='left')\n",
    "sales1 = pd.merge(sales1,shops,on='shop_id',how='left')"
   ]
  },
  {
   "cell_type": "code",
   "execution_count": 14,
   "metadata": {
    "collapsed": true
   },
   "outputs": [],
   "source": [
    "sales1.rename(columns={'Name': 'Shop_Name', 'item_name_translated': 'item_name','Type': 'Shop_Type' },inplace=True)"
   ]
  },
  {
   "cell_type": "code",
   "execution_count": 15,
   "metadata": {
    "scrolled": true
   },
   "outputs": [
    {
     "data": {
      "text/plain": [
       "date                False\n",
       "date_block_num      False\n",
       "shop_id             False\n",
       "item_id             False\n",
       "item_price          False\n",
       "item_cnt_day        False\n",
       "year                False\n",
       "month               False\n",
       "DOW                 False\n",
       "Season              False\n",
       "item_name           False\n",
       "item_category       False\n",
       "Item Type           False\n",
       "item_name           False\n",
       "item_category_id    False\n",
       "City                False\n",
       "Shop_Type           False\n",
       "Shop_Name           False\n",
       "dtype: bool"
      ]
     },
     "execution_count": 15,
     "metadata": {},
     "output_type": "execute_result"
    }
   ],
   "source": [
    "#checking missing values or nulls \n",
    "sales1.iloc[:,:].isnull().any()\n"
   ]
  },
  {
   "cell_type": "markdown",
   "metadata": {
    "collapsed": true
   },
   "source": [
    "### Calculated item per month by aggregating item count per day records based on item id and shop id and month"
   ]
  },
  {
   "cell_type": "code",
   "execution_count": 16,
   "metadata": {
    "collapsed": true
   },
   "outputs": [],
   "source": [
    "index_col = ['item_id','month','shop_id','year','item_category']"
   ]
  },
  {
   "cell_type": "code",
   "execution_count": 17,
   "metadata": {
    "collapsed": true
   },
   "outputs": [],
   "source": [
    "# copying data\n",
    "sales2 = sales1"
   ]
  },
  {
   "cell_type": "code",
   "execution_count": 18,
   "metadata": {
    "collapsed": true
   },
   "outputs": [],
   "source": [
    "# dropping duplicated based on index columns\n",
    "sales2.drop_duplicates(subset=['item_id','month','shop_id','year','item_category'],inplace=True)"
   ]
  },
  {
   "cell_type": "code",
   "execution_count": 19,
   "metadata": {
    "collapsed": true
   },
   "outputs": [],
   "source": [
    "# Calculating item count per month . This will reduce the count of records and will give the per month sales of each item \n",
    "index_col = ['item_id','month','shop_id','year','item_category']\n",
    "item_month = sales1.groupby(index_col)['item_cnt_day'].agg(['sum']).reset_index().rename(columns = {'sum': 'item_cnt_month'})\n",
    "item_month['item_cnt_month'] = item_month['item_cnt_month'].astype(np.int)"
   ]
  },
  {
   "cell_type": "code",
   "execution_count": 20,
   "metadata": {
    "collapsed": true
   },
   "outputs": [],
   "source": [
    "#Merging back to sales2\n",
    "sales2 = pd.merge(sales2,item_month,how='left',on=index_col).fillna(0)\n",
    "sales2['item_cnt_month'] = sales2['item_cnt_month'].astype(int)"
   ]
  },
  {
   "cell_type": "code",
   "execution_count": 21,
   "metadata": {
    "collapsed": true
   },
   "outputs": [],
   "source": [
    "# deleting columns as they are no longer needed\n",
    "sales2 = sales2.drop(['date','DOW','item_category_id'],axis=1)"
   ]
  },
  {
   "cell_type": "code",
   "execution_count": 22,
   "metadata": {
    "collapsed": true
   },
   "outputs": [],
   "source": [
    "#copying data\n",
    "sales3 = sales2"
   ]
  },
  {
   "cell_type": "markdown",
   "metadata": {},
   "source": [
    "### Kept only  Moscow shops...count reduced to around 500,000"
   ]
  },
  {
   "cell_type": "code",
   "execution_count": 23,
   "metadata": {
    "collapsed": true
   },
   "outputs": [],
   "source": [
    "sales3 = sales3[sales3['City']=='Moscow']"
   ]
  },
  {
   "cell_type": "code",
   "execution_count": 24,
   "metadata": {
    "collapsed": true,
    "scrolled": false
   },
   "outputs": [],
   "source": [
    "# deleting columns as they are no longer needed\n",
    "sales3 = sales3.drop(['item_cnt_day'],axis=1)"
   ]
  },
  {
   "cell_type": "code",
   "execution_count": 25,
   "metadata": {
    "collapsed": true
   },
   "outputs": [],
   "source": [
    "sales3 = sales3.loc[:, ~sales3.columns.duplicated()]"
   ]
  },
  {
   "cell_type": "markdown",
   "metadata": {},
   "source": [
    "### Focussing on the items of just one shop of a particular city. Thereby reducing the count to around 40K"
   ]
  },
  {
   "cell_type": "code",
   "execution_count": 26,
   "metadata": {
    "scrolled": true
   },
   "outputs": [
    {
     "data": {
      "text/html": [
       "<div>\n",
       "<style>\n",
       "    .dataframe thead tr:only-child th {\n",
       "        text-align: right;\n",
       "    }\n",
       "\n",
       "    .dataframe thead th {\n",
       "        text-align: left;\n",
       "    }\n",
       "\n",
       "    .dataframe tbody tr th {\n",
       "        vertical-align: top;\n",
       "    }\n",
       "</style>\n",
       "<table border=\"1\" class=\"dataframe\">\n",
       "  <thead>\n",
       "    <tr style=\"text-align: right;\">\n",
       "      <th></th>\n",
       "      <th>date_block_num</th>\n",
       "      <th>shop_id</th>\n",
       "      <th>item_id</th>\n",
       "      <th>item_price</th>\n",
       "      <th>year</th>\n",
       "      <th>month</th>\n",
       "      <th>Season</th>\n",
       "      <th>item_name</th>\n",
       "      <th>item_category</th>\n",
       "      <th>Item Type</th>\n",
       "      <th>City</th>\n",
       "      <th>Shop_Type</th>\n",
       "      <th>Shop_Name</th>\n",
       "      <th>item_cnt_month</th>\n",
       "    </tr>\n",
       "  </thead>\n",
       "  <tbody>\n",
       "    <tr>\n",
       "      <th>1</th>\n",
       "      <td>0</td>\n",
       "      <td>25</td>\n",
       "      <td>2552</td>\n",
       "      <td>899.00</td>\n",
       "      <td>2013</td>\n",
       "      <td>1</td>\n",
       "      <td>Q1-Q2</td>\n",
       "      <td>DEEP PURPLE  The House Of Blue Light  LP</td>\n",
       "      <td>Music</td>\n",
       "      <td>Non Electronics</td>\n",
       "      <td>Moscow</td>\n",
       "      <td>TRC</td>\n",
       "      <td>Atrium</td>\n",
       "      <td>1</td>\n",
       "    </tr>\n",
       "    <tr>\n",
       "      <th>2</th>\n",
       "      <td>0</td>\n",
       "      <td>25</td>\n",
       "      <td>2554</td>\n",
       "      <td>1709.05</td>\n",
       "      <td>2013</td>\n",
       "      <td>1</td>\n",
       "      <td>Q1-Q2</td>\n",
       "      <td>DEEP PURPLE  Who Do You Think We Are  LP</td>\n",
       "      <td>Music</td>\n",
       "      <td>Non Electronics</td>\n",
       "      <td>Moscow</td>\n",
       "      <td>TRC</td>\n",
       "      <td>Atrium</td>\n",
       "      <td>1</td>\n",
       "    </tr>\n",
       "    <tr>\n",
       "      <th>3</th>\n",
       "      <td>0</td>\n",
       "      <td>25</td>\n",
       "      <td>2555</td>\n",
       "      <td>1099.00</td>\n",
       "      <td>2013</td>\n",
       "      <td>1</td>\n",
       "      <td>Q1-Q2</td>\n",
       "      <td>DEEP PURPLE 30 Very Best Of 2CD (___ü„Û__.)</td>\n",
       "      <td>Music</td>\n",
       "      <td>Non Electronics</td>\n",
       "      <td>Moscow</td>\n",
       "      <td>TRC</td>\n",
       "      <td>Atrium</td>\n",
       "      <td>1</td>\n",
       "    </tr>\n",
       "    <tr>\n",
       "      <th>4</th>\n",
       "      <td>0</td>\n",
       "      <td>25</td>\n",
       "      <td>2564</td>\n",
       "      <td>349.00</td>\n",
       "      <td>2013</td>\n",
       "      <td>1</td>\n",
       "      <td>Q1-Q2</td>\n",
       "      <td>DEEP PURPLE Perihelion: Live In Concert DVD (_...</td>\n",
       "      <td>Music</td>\n",
       "      <td>Non Electronics</td>\n",
       "      <td>Moscow</td>\n",
       "      <td>TRC</td>\n",
       "      <td>Atrium</td>\n",
       "      <td>1</td>\n",
       "    </tr>\n",
       "    <tr>\n",
       "      <th>5</th>\n",
       "      <td>0</td>\n",
       "      <td>25</td>\n",
       "      <td>2565</td>\n",
       "      <td>549.00</td>\n",
       "      <td>2013</td>\n",
       "      <td>1</td>\n",
       "      <td>Q1-Q2</td>\n",
       "      <td>DEEP PURPLE Stormbringer („ã_ü„Û__.)</td>\n",
       "      <td>Music</td>\n",
       "      <td>Non Electronics</td>\n",
       "      <td>Moscow</td>\n",
       "      <td>TRC</td>\n",
       "      <td>Atrium</td>\n",
       "      <td>1</td>\n",
       "    </tr>\n",
       "  </tbody>\n",
       "</table>\n",
       "</div>"
      ],
      "text/plain": [
       "   date_block_num  shop_id  item_id  item_price  year  month Season  \\\n",
       "1               0       25     2552      899.00  2013      1  Q1-Q2   \n",
       "2               0       25     2554     1709.05  2013      1  Q1-Q2   \n",
       "3               0       25     2555     1099.00  2013      1  Q1-Q2   \n",
       "4               0       25     2564      349.00  2013      1  Q1-Q2   \n",
       "5               0       25     2565      549.00  2013      1  Q1-Q2   \n",
       "\n",
       "                                           item_name item_category  \\\n",
       "1           DEEP PURPLE  The House Of Blue Light  LP         Music   \n",
       "2           DEEP PURPLE  Who Do You Think We Are  LP         Music   \n",
       "3        DEEP PURPLE 30 Very Best Of 2CD (___ü„Û__.)         Music   \n",
       "4  DEEP PURPLE Perihelion: Live In Concert DVD (_...         Music   \n",
       "5               DEEP PURPLE Stormbringer („ã_ü„Û__.)         Music   \n",
       "\n",
       "         Item Type    City Shop_Type Shop_Name  item_cnt_month  \n",
       "1  Non Electronics  Moscow       TRC    Atrium               1  \n",
       "2  Non Electronics  Moscow       TRC    Atrium               1  \n",
       "3  Non Electronics  Moscow       TRC    Atrium               1  \n",
       "4  Non Electronics  Moscow       TRC    Atrium               1  \n",
       "5  Non Electronics  Moscow       TRC    Atrium               1  "
      ]
     },
     "execution_count": 26,
     "metadata": {},
     "output_type": "execute_result"
    }
   ],
   "source": [
    "sales3.head()"
   ]
  },
  {
   "cell_type": "code",
   "execution_count": 27,
   "metadata": {
    "collapsed": true
   },
   "outputs": [],
   "source": [
    "# Filtering just shop 25 -- shop name Atrium\n",
    "sales4 = sales3.loc[sales3['shop_id']== 25]"
   ]
  },
  {
   "cell_type": "code",
   "execution_count": 28,
   "metadata": {
    "scrolled": true
   },
   "outputs": [
    {
     "data": {
      "text/plain": [
       "date_block_num    False\n",
       "shop_id           False\n",
       "item_id           False\n",
       "item_price        False\n",
       "year              False\n",
       "month             False\n",
       "Season            False\n",
       "item_name         False\n",
       "item_category     False\n",
       "Item Type         False\n",
       "City              False\n",
       "Shop_Type         False\n",
       "Shop_Name         False\n",
       "item_cnt_month    False\n",
       "dtype: bool"
      ]
     },
     "execution_count": 28,
     "metadata": {},
     "output_type": "execute_result"
    }
   ],
   "source": [
    "#checking missing values or nulls \n",
    "sales4.iloc[:,:].isnull().any()"
   ]
  },
  {
   "cell_type": "code",
   "execution_count": 29,
   "metadata": {
    "collapsed": true
   },
   "outputs": [],
   "source": [
    "sales4 = sales4.drop(['City','Shop_Name'],axis=1)"
   ]
  },
  {
   "cell_type": "code",
   "execution_count": 30,
   "metadata": {
    "collapsed": true
   },
   "outputs": [],
   "source": [
    "sales4 = sales4.drop(['date_block_num','shop_id','item_id','item_name'],axis=1)"
   ]
  },
  {
   "cell_type": "code",
   "execution_count": 31,
   "metadata": {
    "collapsed": true
   },
   "outputs": [],
   "source": [
    "sales4 = sales4.drop(['Shop_Type'],axis=1)"
   ]
  },
  {
   "cell_type": "code",
   "execution_count": 32,
   "metadata": {
    "collapsed": true
   },
   "outputs": [],
   "source": [
    "sales4 = sales4.drop(['month'],axis=1)"
   ]
  },
  {
   "cell_type": "code",
   "execution_count": 33,
   "metadata": {
    "scrolled": false
   },
   "outputs": [
    {
     "data": {
      "text/html": [
       "<div>\n",
       "<style>\n",
       "    .dataframe thead tr:only-child th {\n",
       "        text-align: right;\n",
       "    }\n",
       "\n",
       "    .dataframe thead th {\n",
       "        text-align: left;\n",
       "    }\n",
       "\n",
       "    .dataframe tbody tr th {\n",
       "        vertical-align: top;\n",
       "    }\n",
       "</style>\n",
       "<table border=\"1\" class=\"dataframe\">\n",
       "  <thead>\n",
       "    <tr style=\"text-align: right;\">\n",
       "      <th></th>\n",
       "      <th>item_price</th>\n",
       "      <th>year</th>\n",
       "      <th>Season</th>\n",
       "      <th>item_category</th>\n",
       "      <th>Item Type</th>\n",
       "      <th>item_cnt_month</th>\n",
       "    </tr>\n",
       "  </thead>\n",
       "  <tbody>\n",
       "    <tr>\n",
       "      <th>1</th>\n",
       "      <td>899.00</td>\n",
       "      <td>2013</td>\n",
       "      <td>Q1-Q2</td>\n",
       "      <td>Music</td>\n",
       "      <td>Non Electronics</td>\n",
       "      <td>1</td>\n",
       "    </tr>\n",
       "    <tr>\n",
       "      <th>2</th>\n",
       "      <td>1709.05</td>\n",
       "      <td>2013</td>\n",
       "      <td>Q1-Q2</td>\n",
       "      <td>Music</td>\n",
       "      <td>Non Electronics</td>\n",
       "      <td>1</td>\n",
       "    </tr>\n",
       "    <tr>\n",
       "      <th>3</th>\n",
       "      <td>1099.00</td>\n",
       "      <td>2013</td>\n",
       "      <td>Q1-Q2</td>\n",
       "      <td>Music</td>\n",
       "      <td>Non Electronics</td>\n",
       "      <td>1</td>\n",
       "    </tr>\n",
       "    <tr>\n",
       "      <th>4</th>\n",
       "      <td>349.00</td>\n",
       "      <td>2013</td>\n",
       "      <td>Q1-Q2</td>\n",
       "      <td>Music</td>\n",
       "      <td>Non Electronics</td>\n",
       "      <td>1</td>\n",
       "    </tr>\n",
       "    <tr>\n",
       "      <th>5</th>\n",
       "      <td>549.00</td>\n",
       "      <td>2013</td>\n",
       "      <td>Q1-Q2</td>\n",
       "      <td>Music</td>\n",
       "      <td>Non Electronics</td>\n",
       "      <td>1</td>\n",
       "    </tr>\n",
       "  </tbody>\n",
       "</table>\n",
       "</div>"
      ],
      "text/plain": [
       "   item_price  year Season item_category        Item Type  item_cnt_month\n",
       "1      899.00  2013  Q1-Q2         Music  Non Electronics               1\n",
       "2     1709.05  2013  Q1-Q2         Music  Non Electronics               1\n",
       "3     1099.00  2013  Q1-Q2         Music  Non Electronics               1\n",
       "4      349.00  2013  Q1-Q2         Music  Non Electronics               1\n",
       "5      549.00  2013  Q1-Q2         Music  Non Electronics               1"
      ]
     },
     "execution_count": 33,
     "metadata": {},
     "output_type": "execute_result"
    }
   ],
   "source": [
    "sales4.head()"
   ]
  },
  {
   "cell_type": "code",
   "execution_count": 34,
   "metadata": {
    "collapsed": true
   },
   "outputs": [],
   "source": [
    "# Removing columns which are not required for further processing\n",
    "sales4 = sales4[sales4['item_category']!='Clean media (piece)']\n",
    "sales4 = sales4[sales4['item_category']!='Clean carriers (spire)']\n",
    "sales4 = sales4[sales4['item_category']!='Tickets (figure)']\n",
    "sales4 = sales4[sales4['item_category']!='PC']"
   ]
  },
  {
   "cell_type": "code",
   "execution_count": 35,
   "metadata": {
    "collapsed": true
   },
   "outputs": [],
   "source": [
    "sales4.replace(['Payment cards','Payment cards (Movies, Music, Games)'],['Vouchers','Vouchers'],inplace=True)"
   ]
  },
  {
   "cell_type": "code",
   "execution_count": 36,
   "metadata": {
    "collapsed": true
   },
   "outputs": [],
   "source": [
    "# Calculating sales of each it\n",
    "def salesvolume(cols):\n",
    "    item_price = cols[0]\n",
    "    item_cnt_month = cols[1]\n",
    "    sales = item_price * item_cnt_month\n",
    "    return sales\n",
    "    \n",
    "    \n",
    "sales4['Sales_vol'] = sales4[['item_price','item_cnt_month']].apply(salesvolume,axis=1)"
   ]
  },
  {
   "cell_type": "code",
   "execution_count": 37,
   "metadata": {
    "collapsed": true
   },
   "outputs": [],
   "source": [
    "\n",
    "#sales4['month'] = sales4['month'].astype('str')\n",
    "sales4['year'] = sales4['year'].astype('str')\n"
   ]
  },
  {
   "cell_type": "code",
   "execution_count": 38,
   "metadata": {
    "collapsed": true
   },
   "outputs": [],
   "source": [
    "# Converting into numerals\n",
    "sales4['Season'] = sales4['Season'].astype('category')\n",
    "def season(s):\n",
    "    if s == 'Q1-Q2':\n",
    "        return 1\n",
    "    else:\n",
    "        return 0\n",
    "    \n",
    "sales4['Season'] = sales4['Season'].apply(season)\n",
    "        \n",
    "    "
   ]
  },
  {
   "cell_type": "code",
   "execution_count": 39,
   "metadata": {
    "collapsed": true
   },
   "outputs": [],
   "source": [
    "# splitting into X and Y\n",
    "X = sales4.drop(['Season'],axis=1)\n",
    "Y = sales4['Season']"
   ]
  },
  {
   "cell_type": "code",
   "execution_count": 40,
   "metadata": {
    "collapsed": true
   },
   "outputs": [],
   "source": [
    "X = X.reset_index(drop=True)\n",
    "Y = Y.reset_index(drop=True)"
   ]
  },
  {
   "cell_type": "code",
   "execution_count": 41,
   "metadata": {
    "collapsed": true
   },
   "outputs": [],
   "source": [
    "\n",
    "X['Item Type'] = X['Item Type'].astype('category')"
   ]
  },
  {
   "cell_type": "code",
   "execution_count": 42,
   "metadata": {
    "collapsed": true
   },
   "outputs": [],
   "source": [
    "X['item_category'] = X['item_category'].astype('category')"
   ]
  },
  {
   "cell_type": "code",
   "execution_count": 43,
   "metadata": {
    "collapsed": true
   },
   "outputs": [],
   "source": [
    "X['year'] = X['year'].astype('category')"
   ]
  },
  {
   "cell_type": "markdown",
   "metadata": {},
   "source": [
    "### Dummy variables "
   ]
  },
  {
   "cell_type": "code",
   "execution_count": 44,
   "metadata": {
    "collapsed": true
   },
   "outputs": [],
   "source": [
    "# creating dummy variables\n",
    "X = pd.get_dummies(X)"
   ]
  },
  {
   "cell_type": "code",
   "execution_count": 45,
   "metadata": {
    "collapsed": true
   },
   "outputs": [],
   "source": [
    "# Dropping  reference dummy columns\n",
    "X = X.drop(['year_2013','Item Type_Non Electronics','item_category_Vouchers'],axis=1)"
   ]
  },
  {
   "cell_type": "markdown",
   "metadata": {},
   "source": [
    "### Standardizing numeric variables"
   ]
  },
  {
   "cell_type": "code",
   "execution_count": 46,
   "metadata": {
    "collapsed": true
   },
   "outputs": [],
   "source": [
    "#Standardizing numeric columns\n",
    "scaler = preprocessing.StandardScaler().fit(X[[\"item_price\",\"item_cnt_month\",\"Sales_vol\"]])"
   ]
  },
  {
   "cell_type": "code",
   "execution_count": 47,
   "metadata": {
    "scrolled": true
   },
   "outputs": [
    {
     "name": "stdout",
     "output_type": "stream",
     "text": [
      "[ 732.98642665    1.10286572  902.58294081] [  1.30984284e+03   1.60379001e+00   6.98106817e+03]\n"
     ]
    }
   ],
   "source": [
    "print(scaler.mean_,scaler.scale_)"
   ]
  },
  {
   "cell_type": "code",
   "execution_count": 48,
   "metadata": {
    "collapsed": true
   },
   "outputs": [],
   "source": [
    "#Transforming numeric columns\n",
    "X_scaled = scaler.transform(X[[\"item_price\",\"item_cnt_month\",\"Sales_vol\"]]) "
   ]
  },
  {
   "cell_type": "code",
   "execution_count": 49,
   "metadata": {
    "collapsed": true
   },
   "outputs": [],
   "source": [
    "columns = ['item_price_s','item_cnt_month_s','Sales_vol_s']\n",
    "X_Scaled_df = pd.DataFrame(X_scaled.reshape(len(X_scaled),-1),columns=columns)"
   ]
  },
  {
   "cell_type": "code",
   "execution_count": 50,
   "metadata": {
    "scrolled": true
   },
   "outputs": [
    {
     "name": "stdout",
     "output_type": "stream",
     "text": [
      "[  4.91473343e-17  -5.17340361e-17  -2.58670181e-18]\n",
      "[ 1.  1.  1.]\n"
     ]
    }
   ],
   "source": [
    "print(X_scaled.mean(axis=0))\n",
    "print(X_scaled.std(axis=0))"
   ]
  },
  {
   "cell_type": "code",
   "execution_count": 51,
   "metadata": {
    "collapsed": true
   },
   "outputs": [],
   "source": [
    "#Concatenating scaled data with main dataframe\n",
    "X = pd.concat([X,X_Scaled_df],axis=1) "
   ]
  },
  {
   "cell_type": "code",
   "execution_count": 52,
   "metadata": {
    "collapsed": true
   },
   "outputs": [],
   "source": [
    "#Dropping original numeric columns\n",
    "X = X.drop([\"item_price\",\"item_cnt_month\"],axis=1)"
   ]
  },
  {
   "cell_type": "code",
   "execution_count": 53,
   "metadata": {
    "collapsed": true
   },
   "outputs": [],
   "source": [
    "#Dropping original numeric columns\n",
    "X = X.drop([\"Sales_vol\"],axis=1)"
   ]
  },
  {
   "cell_type": "markdown",
   "metadata": {},
   "source": [
    "### Shuffling and splitting data into train and test records"
   ]
  },
  {
   "cell_type": "code",
   "execution_count": 54,
   "metadata": {
    "collapsed": true
   },
   "outputs": [],
   "source": [
    "#Shuffling data\n",
    "X_shuffle, Y_shuffle = shuffle(X, Y, random_state=121)"
   ]
  },
  {
   "cell_type": "code",
   "execution_count": 55,
   "metadata": {
    "collapsed": true
   },
   "outputs": [],
   "source": [
    "#Splitting data into train and test data\n",
    "X_train, X_test, Y_train, Y_test = train_test_split(X_shuffle, Y_shuffle, test_size=0.20, random_state=121)"
   ]
  },
  {
   "cell_type": "code",
   "execution_count": 56,
   "metadata": {
    "scrolled": true
   },
   "outputs": [
    {
     "data": {
      "text/plain": [
       "year_2014                      False\n",
       "year_2015                      False\n",
       "item_category_Accessories      False\n",
       "item_category_Battery          False\n",
       "item_category_Books            False\n",
       "item_category_Cinema           False\n",
       "item_category_Game Consoles    False\n",
       "item_category_Games            False\n",
       "item_category_Gifts            False\n",
       "item_category_Music            False\n",
       "item_category_Office           False\n",
       "item_category_Official         False\n",
       "item_category_Programs         False\n",
       "Item Type_Electronics          False\n",
       "item_price_s                   False\n",
       "item_cnt_month_s               False\n",
       "Sales_vol_s                    False\n",
       "dtype: bool"
      ]
     },
     "execution_count": 56,
     "metadata": {},
     "output_type": "execute_result"
    }
   ],
   "source": [
    "#checking any missing record\n",
    "X_train.iloc[:,:].isnull().any()"
   ]
  },
  {
   "cell_type": "code",
   "execution_count": 57,
   "metadata": {
    "collapsed": true
   },
   "outputs": [],
   "source": [
    "# saving files to train data\n",
    "X_train.to_csv('X_train_v2.csv')\n",
    "Y_train.to_csv('Y_train_v2.csv')\n",
    "X_test.to_csv('X_test_v2.csv')\n",
    "Y_test.to_csv('Y_test_v2.csv')\n"
   ]
  }
 ],
 "metadata": {
  "kernelspec": {
   "display_name": "Python 3",
   "language": "python",
   "name": "python3"
  },
  "language_info": {
   "codemirror_mode": {
    "name": "ipython",
    "version": 3
   },
   "file_extension": ".py",
   "mimetype": "text/x-python",
   "name": "python",
   "nbconvert_exporter": "python",
   "pygments_lexer": "ipython3",
   "version": "3.6.3"
  }
 },
 "nbformat": 4,
 "nbformat_minor": 2
}
